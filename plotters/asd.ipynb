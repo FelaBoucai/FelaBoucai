{
 "cells": [
  {
   "cell_type": "code",
   "execution_count": 1,
   "metadata": {},
   "outputs": [],
   "source": [
    "import pandas as pd\n",
    "from gapminder import gapminder"
   ]
  },
  {
   "cell_type": "code",
   "execution_count": 2,
   "metadata": {},
   "outputs": [
    {
     "data": {
      "text/html": [
       "<div>\n",
       "<style scoped>\n",
       "    .dataframe tbody tr th:only-of-type {\n",
       "        vertical-align: middle;\n",
       "    }\n",
       "\n",
       "    .dataframe tbody tr th {\n",
       "        vertical-align: top;\n",
       "    }\n",
       "\n",
       "    .dataframe thead th {\n",
       "        text-align: right;\n",
       "    }\n",
       "</style>\n",
       "<table border=\"1\" class=\"dataframe\">\n",
       "  <thead>\n",
       "    <tr style=\"text-align: right;\">\n",
       "      <th></th>\n",
       "      <th>country</th>\n",
       "      <th>continent</th>\n",
       "      <th>year</th>\n",
       "      <th>lifeExp</th>\n",
       "      <th>pop</th>\n",
       "      <th>gdpPercap</th>\n",
       "    </tr>\n",
       "  </thead>\n",
       "  <tbody>\n",
       "    <tr>\n",
       "      <th>0</th>\n",
       "      <td>Afghanistan</td>\n",
       "      <td>Asia</td>\n",
       "      <td>1952</td>\n",
       "      <td>28.801</td>\n",
       "      <td>8425333</td>\n",
       "      <td>779.445314</td>\n",
       "    </tr>\n",
       "    <tr>\n",
       "      <th>1</th>\n",
       "      <td>Afghanistan</td>\n",
       "      <td>Asia</td>\n",
       "      <td>1957</td>\n",
       "      <td>30.332</td>\n",
       "      <td>9240934</td>\n",
       "      <td>820.853030</td>\n",
       "    </tr>\n",
       "    <tr>\n",
       "      <th>2</th>\n",
       "      <td>Afghanistan</td>\n",
       "      <td>Asia</td>\n",
       "      <td>1962</td>\n",
       "      <td>31.997</td>\n",
       "      <td>10267083</td>\n",
       "      <td>853.100710</td>\n",
       "    </tr>\n",
       "    <tr>\n",
       "      <th>3</th>\n",
       "      <td>Afghanistan</td>\n",
       "      <td>Asia</td>\n",
       "      <td>1967</td>\n",
       "      <td>34.020</td>\n",
       "      <td>11537966</td>\n",
       "      <td>836.197138</td>\n",
       "    </tr>\n",
       "    <tr>\n",
       "      <th>4</th>\n",
       "      <td>Afghanistan</td>\n",
       "      <td>Asia</td>\n",
       "      <td>1972</td>\n",
       "      <td>36.088</td>\n",
       "      <td>13079460</td>\n",
       "      <td>739.981106</td>\n",
       "    </tr>\n",
       "  </tbody>\n",
       "</table>\n",
       "</div>"
      ],
      "text/plain": [
       "       country continent  year  lifeExp       pop   gdpPercap\n",
       "0  Afghanistan      Asia  1952   28.801   8425333  779.445314\n",
       "1  Afghanistan      Asia  1957   30.332   9240934  820.853030\n",
       "2  Afghanistan      Asia  1962   31.997  10267083  853.100710\n",
       "3  Afghanistan      Asia  1967   34.020  11537966  836.197138\n",
       "4  Afghanistan      Asia  1972   36.088  13079460  739.981106"
      ]
     },
     "execution_count": 2,
     "metadata": {},
     "output_type": "execute_result"
    }
   ],
   "source": [
    "gapminder.head()"
   ]
  },
  {
   "cell_type": "code",
   "execution_count": 25,
   "metadata": {},
   "outputs": [
    {
     "data": {
      "text/plain": [
       "continent  year\n",
       "Africa     1952     65133.768223\n",
       "           1957     72032.275237\n",
       "           1962     83100.098892\n",
       "           1967    106618.917645\n",
       "           1972    121660.015058\n",
       "           1977    134468.802440\n",
       "           1982    129042.833907\n",
       "           1987    118698.787546\n",
       "           1992    118654.137329\n",
       "           1997    123695.496865\n",
       "           2002    135168.028262\n",
       "           2007    160629.695446\n",
       "Americas   1952    101976.563805\n",
       "           1957    115401.093329\n",
       "           1962    122538.546760\n",
       "           1967    141706.337401\n",
       "           1972    162283.353476\n",
       "           1977    183800.178157\n",
       "           1982    187668.427202\n",
       "           1987    194835.006528\n",
       "           1992    201123.360138\n",
       "           1997    222232.521564\n",
       "           2002    232191.927683\n",
       "           2007    275075.790634\n",
       "Asia       1952    171450.972133\n",
       "           1957    190995.187018\n",
       "           1962    189069.197618\n",
       "           1967    197048.721329\n",
       "           1972    270186.467082\n",
       "           1977    257113.362658\n",
       "           1982    245326.460197\n",
       "           1987    251071.474755\n",
       "           1992    285109.778175\n",
       "           1997    324525.078743\n",
       "           2002    335744.983087\n",
       "           2007    411609.886714\n",
       "Europe     1952    169831.723043\n",
       "           1957    208890.384478\n",
       "           1962    250964.604429\n",
       "           1967    304314.712696\n",
       "           1972    374387.257394\n",
       "           1977    428519.373288\n",
       "           1982    468536.896537\n",
       "           1987    516429.321799\n",
       "           1992    511847.042526\n",
       "           1997    572303.454048\n",
       "           2002    651351.972673\n",
       "           2007    751634.449078\n",
       "Oceania    1952     20596.171300\n",
       "           1957     23197.044910\n",
       "           1962     25392.904860\n",
       "           1967     28990.043580\n",
       "           1972     32834.666760\n",
       "           1977     34567.915210\n",
       "           1982     37109.419680\n",
       "           1987     40896.080320\n",
       "           1992     41788.091770\n",
       "           1997     48048.350340\n",
       "           2002     53877.556080\n",
       "           2007     59620.376550\n",
       "Name: gdpPercap, dtype: float64"
      ]
     },
     "execution_count": 25,
     "metadata": {},
     "output_type": "execute_result"
    }
   ],
   "source": [
    "continentes = gapminder.groupby(['continent', 'year'])['gdpPercap'].sum()\n",
    "\n",
    "continentes"
   ]
  },
  {
   "cell_type": "markdown",
   "metadata": {},
   "source": []
  }
 ],
 "metadata": {
  "kernelspec": {
   "display_name": "Python 3",
   "language": "python",
   "name": "python3"
  },
  "language_info": {
   "codemirror_mode": {
    "name": "ipython",
    "version": 3
   },
   "file_extension": ".py",
   "mimetype": "text/x-python",
   "name": "python",
   "nbconvert_exporter": "python",
   "pygments_lexer": "ipython3",
   "version": "3.10.4"
  }
 },
 "nbformat": 4,
 "nbformat_minor": 2
}
